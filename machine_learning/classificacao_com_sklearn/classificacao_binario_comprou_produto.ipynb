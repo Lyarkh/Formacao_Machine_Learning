{
 "cells": [
  {
   "cell_type": "markdown",
   "id": "e9f4efbc",
   "metadata": {},
   "source": [
    "# Projeto 2 - Classificação binária básica\n",
    "---"
   ]
  },
  {
   "cell_type": "markdown",
   "id": "9157fa9d",
   "metadata": {},
   "source": [
    "## Buscando dados e tratando\n",
    "---"
   ]
  },
  {
   "cell_type": "code",
   "execution_count": 8,
   "id": "1944ec3c",
   "metadata": {},
   "outputs": [
    {
     "data": {
      "text/html": [
       "<div>\n",
       "<style scoped>\n",
       "    .dataframe tbody tr th:only-of-type {\n",
       "        vertical-align: middle;\n",
       "    }\n",
       "\n",
       "    .dataframe tbody tr th {\n",
       "        vertical-align: top;\n",
       "    }\n",
       "\n",
       "    .dataframe thead th {\n",
       "        text-align: right;\n",
       "    }\n",
       "</style>\n",
       "<table border=\"1\" class=\"dataframe\">\n",
       "  <thead>\n",
       "    <tr style=\"text-align: right;\">\n",
       "      <th></th>\n",
       "      <th>home</th>\n",
       "      <th>how_it_works</th>\n",
       "      <th>contact</th>\n",
       "      <th>bought</th>\n",
       "    </tr>\n",
       "  </thead>\n",
       "  <tbody>\n",
       "    <tr>\n",
       "      <th>0</th>\n",
       "      <td>1</td>\n",
       "      <td>1</td>\n",
       "      <td>0</td>\n",
       "      <td>0</td>\n",
       "    </tr>\n",
       "    <tr>\n",
       "      <th>1</th>\n",
       "      <td>1</td>\n",
       "      <td>1</td>\n",
       "      <td>0</td>\n",
       "      <td>0</td>\n",
       "    </tr>\n",
       "    <tr>\n",
       "      <th>2</th>\n",
       "      <td>1</td>\n",
       "      <td>1</td>\n",
       "      <td>0</td>\n",
       "      <td>0</td>\n",
       "    </tr>\n",
       "    <tr>\n",
       "      <th>3</th>\n",
       "      <td>1</td>\n",
       "      <td>1</td>\n",
       "      <td>0</td>\n",
       "      <td>0</td>\n",
       "    </tr>\n",
       "    <tr>\n",
       "      <th>4</th>\n",
       "      <td>1</td>\n",
       "      <td>1</td>\n",
       "      <td>0</td>\n",
       "      <td>0</td>\n",
       "    </tr>\n",
       "  </tbody>\n",
       "</table>\n",
       "</div>"
      ],
      "text/plain": [
       "   home  how_it_works  contact  bought\n",
       "0     1             1        0       0\n",
       "1     1             1        0       0\n",
       "2     1             1        0       0\n",
       "3     1             1        0       0\n",
       "4     1             1        0       0"
      ]
     },
     "execution_count": 8,
     "metadata": {},
     "output_type": "execute_result"
    }
   ],
   "source": [
    "import pandas as pd\n",
    "\n",
    "uri = \"https://gist.githubusercontent.com/guilhermesilveira/2d2efa37d66b6c84a722ea627a897ced/raw/10968b997d885cbded1c92938c7a9912ba41c615/tracking.csv\"\n",
    "dados = pd.read_csv(uri)\n",
    "dados.head()"
   ]
  },
  {
   "cell_type": "code",
   "execution_count": 9,
   "id": "93e9d1c4",
   "metadata": {},
   "outputs": [],
   "source": [
    "x = dados[[\"home\", \"how_it_works\", \"contact\"]]\n",
    "y = dados[\"bought\"]"
   ]
  },
  {
   "cell_type": "code",
   "execution_count": 10,
   "id": "921f656b",
   "metadata": {},
   "outputs": [],
   "source": [
    "mapa = { \n",
    "    \"home\" : \"principal\",\n",
    "    \"how_it_works\" : \"como_funciona\",\n",
    "    \"contact\" : \"contato\",\n",
    "    \"bought\" : \"comprou\"\n",
    "}\n",
    "dados.rename(columns=mapa, inplace=True)"
   ]
  },
  {
   "cell_type": "code",
   "execution_count": 11,
   "id": "78145d2b",
   "metadata": {},
   "outputs": [
    {
     "data": {
      "text/html": [
       "<div>\n",
       "<style scoped>\n",
       "    .dataframe tbody tr th:only-of-type {\n",
       "        vertical-align: middle;\n",
       "    }\n",
       "\n",
       "    .dataframe tbody tr th {\n",
       "        vertical-align: top;\n",
       "    }\n",
       "\n",
       "    .dataframe thead th {\n",
       "        text-align: right;\n",
       "    }\n",
       "</style>\n",
       "<table border=\"1\" class=\"dataframe\">\n",
       "  <thead>\n",
       "    <tr style=\"text-align: right;\">\n",
       "      <th></th>\n",
       "      <th>principal</th>\n",
       "      <th>como_funciona</th>\n",
       "      <th>contato</th>\n",
       "    </tr>\n",
       "  </thead>\n",
       "  <tbody>\n",
       "    <tr>\n",
       "      <th>0</th>\n",
       "      <td>1</td>\n",
       "      <td>1</td>\n",
       "      <td>0</td>\n",
       "    </tr>\n",
       "    <tr>\n",
       "      <th>1</th>\n",
       "      <td>1</td>\n",
       "      <td>1</td>\n",
       "      <td>0</td>\n",
       "    </tr>\n",
       "    <tr>\n",
       "      <th>2</th>\n",
       "      <td>1</td>\n",
       "      <td>1</td>\n",
       "      <td>0</td>\n",
       "    </tr>\n",
       "    <tr>\n",
       "      <th>3</th>\n",
       "      <td>1</td>\n",
       "      <td>1</td>\n",
       "      <td>0</td>\n",
       "    </tr>\n",
       "    <tr>\n",
       "      <th>4</th>\n",
       "      <td>1</td>\n",
       "      <td>1</td>\n",
       "      <td>0</td>\n",
       "    </tr>\n",
       "  </tbody>\n",
       "</table>\n",
       "</div>"
      ],
      "text/plain": [
       "   principal  como_funciona  contato\n",
       "0          1              1        0\n",
       "1          1              1        0\n",
       "2          1              1        0\n",
       "3          1              1        0\n",
       "4          1              1        0"
      ]
     },
     "execution_count": 11,
     "metadata": {},
     "output_type": "execute_result"
    }
   ],
   "source": [
    "x = dados[[\"principal\", \"como_funciona\", \"contato\"]]\n",
    "y = dados[\"comprou\"]\n",
    "\n",
    "x.head()"
   ]
  },
  {
   "cell_type": "markdown",
   "id": "6d6c84ee",
   "metadata": {},
   "source": [
    "## Análise e separação dos dados de treino e testes\n",
    "---"
   ]
  },
  {
   "cell_type": "code",
   "execution_count": 12,
   "id": "44790110",
   "metadata": {},
   "outputs": [
    {
     "data": {
      "text/plain": [
       "(99, 4)"
      ]
     },
     "execution_count": 12,
     "metadata": {},
     "output_type": "execute_result"
    }
   ],
   "source": [
    "dados.shape"
   ]
  },
  {
   "cell_type": "code",
   "execution_count": 13,
   "id": "accd399f",
   "metadata": {},
   "outputs": [
    {
     "name": "stdout",
     "output_type": "stream",
     "text": [
      "treinaremos com 75 elementos e testaremos com 24 elementos\n"
     ]
    }
   ],
   "source": [
    "treino_x = x[:75]\n",
    "treino_y = y[:75]\n",
    "\n",
    "teste_x = x[75:]\n",
    "teste_y = y[75:]\n",
    "\n",
    "print(f\"treinaremos com {treino_x.shape[0]} elementos e testaremos com {teste_x.shape[0]} elementos\")"
   ]
  },
  {
   "cell_type": "markdown",
   "id": "0a6beeaa",
   "metadata": {},
   "source": [
    "## Treinamento do modelo\n",
    "---"
   ]
  },
  {
   "cell_type": "code",
   "execution_count": 15,
   "id": "33ea5f83",
   "metadata": {},
   "outputs": [],
   "source": [
    "from sklearn.svm import LinearSVC\n",
    "\n",
    "modelo = LinearSVC()\n",
    "modelo.fit(treino_x, treino_y)\n",
    "\n",
    "previsoes = modelo.predict(teste_x)"
   ]
  },
  {
   "cell_type": "markdown",
   "id": "a8ccc8fb",
   "metadata": {},
   "source": [
    "## Pegando acurácia do treinamento\n",
    "---\n"
   ]
  },
  {
   "cell_type": "code",
   "execution_count": 20,
   "id": "8866834d",
   "metadata": {},
   "outputs": [
    {
     "name": "stdout",
     "output_type": "stream",
     "text": [
      "A acurácia foi de: 0.9583\n"
     ]
    }
   ],
   "source": [
    "from sklearn.metrics import accuracy_score\n",
    "\n",
    "acuracia = accuracy_score(teste_y, previsoes)\n",
    "print(f'A acurácia foi de: {acuracia:.4f}')"
   ]
  },
  {
   "cell_type": "markdown",
   "id": "13a73957",
   "metadata": {},
   "source": [
    "## Fazendo o split de treino e teste pela Biblioteca\n",
    "---"
   ]
  },
  {
   "cell_type": "code",
   "execution_count": 26,
   "id": "001c766d",
   "metadata": {},
   "outputs": [
    {
     "name": "stdout",
     "output_type": "stream",
     "text": [
      "treinaremos com 74 elementos e testaremos com 25 elementos\n",
      "A acurácia foi de: 0.9600\n"
     ]
    }
   ],
   "source": [
    "from sklearn.svm import LinearSVC\n",
    "from sklearn.metrics import accuracy_score\n",
    "from sklearn.model_selection import train_test_split\n",
    "\n",
    "SEED =  20\n",
    "\n",
    "treino_x, teste_x, treino_y, teste_y = train_test_split(x, y, test_size=0.25, random_state=SEED)\n",
    "print(f\"treinaremos com {treino_x.shape[0]} elementos e testaremos com {teste_x.shape[0]} elementos\")\n",
    "\n",
    "modelo = LinearSVC()\n",
    "modelo.fit(treino_x, treino_y)\n",
    "\n",
    "previsoes = modelo.predict(teste_x)\n",
    "\n",
    "acuracia = accuracy_score(teste_y, previsoes)\n",
    "print(f'A acurácia foi de: {acuracia:.4f}')"
   ]
  },
  {
   "cell_type": "markdown",
   "id": "d54d22df",
   "metadata": {},
   "source": [
    "## Fazendo o treino do modelo dividindo as proporções de resultados pelo Y\n",
    "---"
   ]
  },
  {
   "cell_type": "code",
   "execution_count": null,
   "id": "7991c058",
   "metadata": {},
   "outputs": [],
   "source": [
    "from sklearn.svm import LinearSVC\n",
    "from sklearn.metrics import accuracy_score\n",
    "from sklearn.model_selection import train_test_split\n",
    "\n",
    "SEED =  20\n",
    "\n",
    "treino_x, teste_x, treino_y, teste_y = train_test_split(x, y, \n",
    "                                                        test_size=0.25,\n",
    "                                                        random_state=SEED\n",
    "                                                        stratify=y) # para que ele faça a proporção pelo eixo Y\n",
    "print(f\"treinaremos com {treino_x.shape[0]} elementos e testaremos com {teste_x.shape[0]} elementos\")\n",
    "\n",
    "modelo = LinearSVC()\n",
    "modelo.fit(treino_x, treino_y)\n",
    "\n",
    "previsoes = modelo.predict(teste_x)\n",
    "\n",
    "acuracia = accuracy_score(teste_y, previsoes)\n",
    "print(f'A acurácia foi de: {acuracia:.4f}')"
   ]
  }
 ],
 "metadata": {
  "kernelspec": {
   "display_name": "Python 3 (ipykernel)",
   "language": "python",
   "name": "python3"
  },
  "language_info": {
   "codemirror_mode": {
    "name": "ipython",
    "version": 3
   },
   "file_extension": ".py",
   "mimetype": "text/x-python",
   "name": "python",
   "nbconvert_exporter": "python",
   "pygments_lexer": "ipython3",
   "version": "3.10.8"
  }
 },
 "nbformat": 4,
 "nbformat_minor": 5
}
