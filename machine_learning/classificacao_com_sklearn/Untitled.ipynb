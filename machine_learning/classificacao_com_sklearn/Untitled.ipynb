{
 "cells": [
  {
   "cell_type": "markdown",
   "id": "8f7074f5",
   "metadata": {},
   "source": [
    "# Projeto 2 - \n",
    "---"
   ]
  },
  {
   "cell_type": "markdown",
   "id": "eec67e04",
   "metadata": {},
   "source": [
    "## Buscando dados e tratando\n",
    "---"
   ]
  },
  {
   "cell_type": "code",
   "execution_count": 7,
   "id": "32e4e116",
   "metadata": {},
   "outputs": [
    {
     "data": {
      "text/html": [
       "<div>\n",
       "<style scoped>\n",
       "    .dataframe tbody tr th:only-of-type {\n",
       "        vertical-align: middle;\n",
       "    }\n",
       "\n",
       "    .dataframe tbody tr th {\n",
       "        vertical-align: top;\n",
       "    }\n",
       "\n",
       "    .dataframe thead th {\n",
       "        text-align: right;\n",
       "    }\n",
       "</style>\n",
       "<table border=\"1\" class=\"dataframe\">\n",
       "  <thead>\n",
       "    <tr style=\"text-align: right;\">\n",
       "      <th></th>\n",
       "      <th>home</th>\n",
       "      <th>how_it_works</th>\n",
       "      <th>contact</th>\n",
       "      <th>bought</th>\n",
       "    </tr>\n",
       "  </thead>\n",
       "  <tbody>\n",
       "    <tr>\n",
       "      <th>0</th>\n",
       "      <td>1</td>\n",
       "      <td>1</td>\n",
       "      <td>0</td>\n",
       "      <td>0</td>\n",
       "    </tr>\n",
       "    <tr>\n",
       "      <th>1</th>\n",
       "      <td>1</td>\n",
       "      <td>1</td>\n",
       "      <td>0</td>\n",
       "      <td>0</td>\n",
       "    </tr>\n",
       "    <tr>\n",
       "      <th>2</th>\n",
       "      <td>1</td>\n",
       "      <td>1</td>\n",
       "      <td>0</td>\n",
       "      <td>0</td>\n",
       "    </tr>\n",
       "    <tr>\n",
       "      <th>3</th>\n",
       "      <td>1</td>\n",
       "      <td>1</td>\n",
       "      <td>0</td>\n",
       "      <td>0</td>\n",
       "    </tr>\n",
       "    <tr>\n",
       "      <th>4</th>\n",
       "      <td>1</td>\n",
       "      <td>1</td>\n",
       "      <td>0</td>\n",
       "      <td>0</td>\n",
       "    </tr>\n",
       "  </tbody>\n",
       "</table>\n",
       "</div>"
      ],
      "text/plain": [
       "   home  how_it_works  contact  bought\n",
       "0     1             1        0       0\n",
       "1     1             1        0       0\n",
       "2     1             1        0       0\n",
       "3     1             1        0       0\n",
       "4     1             1        0       0"
      ]
     },
     "execution_count": 7,
     "metadata": {},
     "output_type": "execute_result"
    }
   ],
   "source": [
    "import pandas as pd\n",
    "\n",
    "uri = \"https://gist.githubusercontent.com/guilhermesilveira/2d2efa37d66b6c84a722ea627a897ced/raw/10968b997d885cbded1c92938c7a9912ba41c615/tracking.csv\"\n",
    "dados = pd.read_csv(uri)\n",
    "dados.head()"
   ]
  },
  {
   "cell_type": "code",
   "execution_count": 8,
   "id": "7b615d83",
   "metadata": {},
   "outputs": [],
   "source": [
    "x = dados[[\"home\", \"how_it_works\", \"contact\"]]\n",
    "y = dados[\"bought\"]"
   ]
  },
  {
   "cell_type": "code",
   "execution_count": 11,
   "id": "ee7e1a36",
   "metadata": {},
   "outputs": [],
   "source": [
    "mapa = { \n",
    "    \"home\" : \"principal\",\n",
    "    \"how_it_works\" : \"como_funciona\",\n",
    "    \"contact\" : \"contato\",\n",
    "    \"bought\" : \"comprou\"\n",
    "}\n",
    "dados.rename(columns=mapa, inplace=True)"
   ]
  },
  {
   "cell_type": "code",
   "execution_count": 12,
   "id": "fbc7ab75",
   "metadata": {},
   "outputs": [
    {
     "data": {
      "text/html": [
       "<div>\n",
       "<style scoped>\n",
       "    .dataframe tbody tr th:only-of-type {\n",
       "        vertical-align: middle;\n",
       "    }\n",
       "\n",
       "    .dataframe tbody tr th {\n",
       "        vertical-align: top;\n",
       "    }\n",
       "\n",
       "    .dataframe thead th {\n",
       "        text-align: right;\n",
       "    }\n",
       "</style>\n",
       "<table border=\"1\" class=\"dataframe\">\n",
       "  <thead>\n",
       "    <tr style=\"text-align: right;\">\n",
       "      <th></th>\n",
       "      <th>principal</th>\n",
       "      <th>como_funciona</th>\n",
       "      <th>contato</th>\n",
       "    </tr>\n",
       "  </thead>\n",
       "  <tbody>\n",
       "    <tr>\n",
       "      <th>0</th>\n",
       "      <td>1</td>\n",
       "      <td>1</td>\n",
       "      <td>0</td>\n",
       "    </tr>\n",
       "    <tr>\n",
       "      <th>1</th>\n",
       "      <td>1</td>\n",
       "      <td>1</td>\n",
       "      <td>0</td>\n",
       "    </tr>\n",
       "    <tr>\n",
       "      <th>2</th>\n",
       "      <td>1</td>\n",
       "      <td>1</td>\n",
       "      <td>0</td>\n",
       "    </tr>\n",
       "    <tr>\n",
       "      <th>3</th>\n",
       "      <td>1</td>\n",
       "      <td>1</td>\n",
       "      <td>0</td>\n",
       "    </tr>\n",
       "    <tr>\n",
       "      <th>4</th>\n",
       "      <td>1</td>\n",
       "      <td>1</td>\n",
       "      <td>0</td>\n",
       "    </tr>\n",
       "  </tbody>\n",
       "</table>\n",
       "</div>"
      ],
      "text/plain": [
       "   principal  como_funciona  contato\n",
       "0          1              1        0\n",
       "1          1              1        0\n",
       "2          1              1        0\n",
       "3          1              1        0\n",
       "4          1              1        0"
      ]
     },
     "execution_count": 12,
     "metadata": {},
     "output_type": "execute_result"
    }
   ],
   "source": [
    "x = dados[[\"principal\", \"como_funciona\", \"contato\"]]\n",
    "y = dados[\"comprou\"]\n",
    "\n",
    "x.head()"
   ]
  },
  {
   "cell_type": "markdown",
   "id": "523283d4",
   "metadata": {},
   "source": [
    "## Análise e separação dos dados de treino e testes\n",
    "---"
   ]
  },
  {
   "cell_type": "code",
   "execution_count": 13,
   "id": "46eed48a",
   "metadata": {},
   "outputs": [
    {
     "data": {
      "text/plain": [
       "(99, 4)"
      ]
     },
     "execution_count": 13,
     "metadata": {},
     "output_type": "execute_result"
    }
   ],
   "source": [
    "dados.shape"
   ]
  },
  {
   "cell_type": "code",
   "execution_count": 19,
   "id": "ba2f3c4b",
   "metadata": {},
   "outputs": [
    {
     "name": "stdout",
     "output_type": "stream",
     "text": [
      "treinaremos com 75 elementos e testaremos com 24 elementos\n"
     ]
    }
   ],
   "source": [
    "treino_x = x[:75]\n",
    "treino_y = x[:75]\n",
    "\n",
    "teste_x = x[75:]\n",
    "teste_y = x[75:]\n",
    "\n",
    "print(f\"treinaremos com {treino_x.shape[0]} elementos e testaremos com {teste_x.shape[0]} elementos\")"
   ]
  },
  {
   "cell_type": "code",
   "execution_count": null,
   "id": "fd550301",
   "metadata": {},
   "outputs": [],
   "source": []
  }
 ],
 "metadata": {
  "kernelspec": {
   "display_name": "Python 3 (ipykernel)",
   "language": "python",
   "name": "python3"
  },
  "language_info": {
   "codemirror_mode": {
    "name": "ipython",
    "version": 3
   },
   "file_extension": ".py",
   "mimetype": "text/x-python",
   "name": "python",
   "nbconvert_exporter": "python",
   "pygments_lexer": "ipython3",
   "version": "3.10.8"
  }
 },
 "nbformat": 4,
 "nbformat_minor": 5
}
