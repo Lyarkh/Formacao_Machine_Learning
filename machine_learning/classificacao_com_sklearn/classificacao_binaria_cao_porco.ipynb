{
 "cells": [
  {
   "cell_type": "code",
   "execution_count": null,
   "id": "6374f4b9",
   "metadata": {},
   "outputs": [],
   "source": [
    "# features (1 - sim, 0 - não)\n",
    "# pelo longo?\n",
    "# perna curta?\n",
    "# faz auau?\n",
    "porco_1 = [0, 1, 0]\n",
    "porco_2 = [0, 1, 1]\n",
    "porco_3 = [1, 1, 0]\n",
    "\n",
    "cachorro_1 = [0, 1, 1]\n",
    "cachorro_2 = [1, 0, 1]\n",
    "cachorro_3 = [1, 1, 1]\n",
    "\n",
    "dados = []"
   ]
  }
 ],
 "metadata": {
  "kernelspec": {
   "display_name": "Python 3 (ipykernel)",
   "language": "python",
   "name": "python3"
  },
  "language_info": {
   "codemirror_mode": {
    "name": "ipython",
    "version": 3
   },
   "file_extension": ".py",
   "mimetype": "text/x-python",
   "name": "python",
   "nbconvert_exporter": "python",
   "pygments_lexer": "ipython3",
   "version": "3.10.8"
  }
 },
 "nbformat": 4,
 "nbformat_minor": 5
}
