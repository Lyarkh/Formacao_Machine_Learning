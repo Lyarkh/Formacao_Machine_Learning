{
 "cells": [
  {
   "cell_type": "markdown",
   "id": "2edb0dd2",
   "metadata": {},
   "source": [
    "# Lidando com dados de muitas dimensões\n",
    "---"
   ]
  },
  {
   "cell_type": "code",
   "execution_count": 1,
   "id": "27627c57",
   "metadata": {},
   "outputs": [],
   "source": [
    "import pandas as pd"
   ]
  },
  {
   "cell_type": "code",
   "execution_count": 2,
   "id": "1384a118",
   "metadata": {},
   "outputs": [],
   "source": [
    "url_dados = 'https://raw.githubusercontent.com/alura-cursos/reducao-dimensionalidade/master/data-set/exames.csv'"
   ]
  },
  {
   "cell_type": "code",
   "execution_count": 3,
   "id": "409a745e",
   "metadata": {},
   "outputs": [
    {
     "data": {
      "text/plain": [
       "(569, 35)"
      ]
     },
     "execution_count": 3,
     "metadata": {},
     "output_type": "execute_result"
    }
   ],
   "source": [
    "dados = pd.read_csv(url_dados)\n",
    "dados.shape"
   ]
  },
  {
   "cell_type": "code",
   "execution_count": 4,
   "id": "beef9a2d",
   "metadata": {},
   "outputs": [
    {
     "data": {
      "text/html": [
       "<div>\n",
       "<style scoped>\n",
       "    .dataframe tbody tr th:only-of-type {\n",
       "        vertical-align: middle;\n",
       "    }\n",
       "\n",
       "    .dataframe tbody tr th {\n",
       "        vertical-align: top;\n",
       "    }\n",
       "\n",
       "    .dataframe thead th {\n",
       "        text-align: right;\n",
       "    }\n",
       "</style>\n",
       "<table border=\"1\" class=\"dataframe\">\n",
       "  <thead>\n",
       "    <tr style=\"text-align: right;\">\n",
       "      <th></th>\n",
       "      <th>id</th>\n",
       "      <th>diagnostico</th>\n",
       "      <th>exame_1</th>\n",
       "      <th>exame_2</th>\n",
       "      <th>exame_3</th>\n",
       "      <th>exame_4</th>\n",
       "      <th>exame_5</th>\n",
       "      <th>exame_6</th>\n",
       "      <th>exame_7</th>\n",
       "      <th>exame_8</th>\n",
       "      <th>...</th>\n",
       "      <th>exame_24</th>\n",
       "      <th>exame_25</th>\n",
       "      <th>exame_26</th>\n",
       "      <th>exame_27</th>\n",
       "      <th>exame_28</th>\n",
       "      <th>exame_29</th>\n",
       "      <th>exame_30</th>\n",
       "      <th>exame_31</th>\n",
       "      <th>exame_32</th>\n",
       "      <th>exame_33</th>\n",
       "    </tr>\n",
       "  </thead>\n",
       "  <tbody>\n",
       "    <tr>\n",
       "      <th>0</th>\n",
       "      <td>842302</td>\n",
       "      <td>M</td>\n",
       "      <td>17.99</td>\n",
       "      <td>10.38</td>\n",
       "      <td>122.80</td>\n",
       "      <td>103.78</td>\n",
       "      <td>1001.0</td>\n",
       "      <td>0.11840</td>\n",
       "      <td>0.27760</td>\n",
       "      <td>0.3001</td>\n",
       "      <td>...</td>\n",
       "      <td>184.60</td>\n",
       "      <td>2019.0</td>\n",
       "      <td>0.1622</td>\n",
       "      <td>0.6656</td>\n",
       "      <td>0.7119</td>\n",
       "      <td>0.786</td>\n",
       "      <td>0.2654</td>\n",
       "      <td>0.4601</td>\n",
       "      <td>0.11890</td>\n",
       "      <td>NaN</td>\n",
       "    </tr>\n",
       "    <tr>\n",
       "      <th>1</th>\n",
       "      <td>842517</td>\n",
       "      <td>M</td>\n",
       "      <td>20.57</td>\n",
       "      <td>17.77</td>\n",
       "      <td>132.90</td>\n",
       "      <td>103.78</td>\n",
       "      <td>1326.0</td>\n",
       "      <td>0.08474</td>\n",
       "      <td>0.07864</td>\n",
       "      <td>0.0869</td>\n",
       "      <td>...</td>\n",
       "      <td>158.80</td>\n",
       "      <td>1956.0</td>\n",
       "      <td>0.1238</td>\n",
       "      <td>0.1866</td>\n",
       "      <td>0.2416</td>\n",
       "      <td>0.786</td>\n",
       "      <td>0.1860</td>\n",
       "      <td>0.2750</td>\n",
       "      <td>0.08902</td>\n",
       "      <td>NaN</td>\n",
       "    </tr>\n",
       "    <tr>\n",
       "      <th>2</th>\n",
       "      <td>84300903</td>\n",
       "      <td>M</td>\n",
       "      <td>19.69</td>\n",
       "      <td>21.25</td>\n",
       "      <td>130.00</td>\n",
       "      <td>103.78</td>\n",
       "      <td>1203.0</td>\n",
       "      <td>0.10960</td>\n",
       "      <td>0.15990</td>\n",
       "      <td>0.1974</td>\n",
       "      <td>...</td>\n",
       "      <td>152.50</td>\n",
       "      <td>1709.0</td>\n",
       "      <td>0.1444</td>\n",
       "      <td>0.4245</td>\n",
       "      <td>0.4504</td>\n",
       "      <td>0.786</td>\n",
       "      <td>0.2430</td>\n",
       "      <td>0.3613</td>\n",
       "      <td>0.08758</td>\n",
       "      <td>NaN</td>\n",
       "    </tr>\n",
       "    <tr>\n",
       "      <th>3</th>\n",
       "      <td>84348301</td>\n",
       "      <td>M</td>\n",
       "      <td>11.42</td>\n",
       "      <td>20.38</td>\n",
       "      <td>77.58</td>\n",
       "      <td>103.78</td>\n",
       "      <td>386.1</td>\n",
       "      <td>0.14250</td>\n",
       "      <td>0.28390</td>\n",
       "      <td>0.2414</td>\n",
       "      <td>...</td>\n",
       "      <td>98.87</td>\n",
       "      <td>567.7</td>\n",
       "      <td>0.2098</td>\n",
       "      <td>0.8663</td>\n",
       "      <td>0.6869</td>\n",
       "      <td>0.786</td>\n",
       "      <td>0.2575</td>\n",
       "      <td>0.6638</td>\n",
       "      <td>0.17300</td>\n",
       "      <td>NaN</td>\n",
       "    </tr>\n",
       "    <tr>\n",
       "      <th>4</th>\n",
       "      <td>84358402</td>\n",
       "      <td>M</td>\n",
       "      <td>20.29</td>\n",
       "      <td>14.34</td>\n",
       "      <td>135.10</td>\n",
       "      <td>103.78</td>\n",
       "      <td>1297.0</td>\n",
       "      <td>0.10030</td>\n",
       "      <td>0.13280</td>\n",
       "      <td>0.1980</td>\n",
       "      <td>...</td>\n",
       "      <td>152.20</td>\n",
       "      <td>1575.0</td>\n",
       "      <td>0.1374</td>\n",
       "      <td>0.2050</td>\n",
       "      <td>0.4000</td>\n",
       "      <td>0.786</td>\n",
       "      <td>0.1625</td>\n",
       "      <td>0.2364</td>\n",
       "      <td>0.07678</td>\n",
       "      <td>0.854454</td>\n",
       "    </tr>\n",
       "  </tbody>\n",
       "</table>\n",
       "<p>5 rows × 35 columns</p>\n",
       "</div>"
      ],
      "text/plain": [
       "         id diagnostico  exame_1  exame_2  exame_3  exame_4  exame_5  exame_6  \\\n",
       "0    842302           M    17.99    10.38   122.80   103.78   1001.0  0.11840   \n",
       "1    842517           M    20.57    17.77   132.90   103.78   1326.0  0.08474   \n",
       "2  84300903           M    19.69    21.25   130.00   103.78   1203.0  0.10960   \n",
       "3  84348301           M    11.42    20.38    77.58   103.78    386.1  0.14250   \n",
       "4  84358402           M    20.29    14.34   135.10   103.78   1297.0  0.10030   \n",
       "\n",
       "   exame_7  exame_8  ...  exame_24  exame_25  exame_26  exame_27  exame_28  \\\n",
       "0  0.27760   0.3001  ...    184.60    2019.0    0.1622    0.6656    0.7119   \n",
       "1  0.07864   0.0869  ...    158.80    1956.0    0.1238    0.1866    0.2416   \n",
       "2  0.15990   0.1974  ...    152.50    1709.0    0.1444    0.4245    0.4504   \n",
       "3  0.28390   0.2414  ...     98.87     567.7    0.2098    0.8663    0.6869   \n",
       "4  0.13280   0.1980  ...    152.20    1575.0    0.1374    0.2050    0.4000   \n",
       "\n",
       "   exame_29  exame_30  exame_31  exame_32  exame_33  \n",
       "0     0.786    0.2654    0.4601   0.11890       NaN  \n",
       "1     0.786    0.1860    0.2750   0.08902       NaN  \n",
       "2     0.786    0.2430    0.3613   0.08758       NaN  \n",
       "3     0.786    0.2575    0.6638   0.17300       NaN  \n",
       "4     0.786    0.1625    0.2364   0.07678  0.854454  \n",
       "\n",
       "[5 rows x 35 columns]"
      ]
     },
     "execution_count": 4,
     "metadata": {},
     "output_type": "execute_result"
    }
   ],
   "source": [
    "dados.head()"
   ]
  },
  {
   "cell_type": "markdown",
   "id": "84ac626f",
   "metadata": {},
   "source": [
    "## Separação dos dados de treino e teste\n",
    "---"
   ]
  },
  {
   "cell_type": "code",
   "execution_count": 5,
   "id": "3ab24305",
   "metadata": {},
   "outputs": [],
   "source": [
    "from sklearn.model_selection import train_test_split\n",
    "from numpy import random\n",
    "\n",
    "SEED = 123143\n",
    "random.seed(SEED)\n",
    "\n",
    "valores_exames = dados.drop(columns=['id', 'diagnostico'])\n",
    "valores_exames = valores_exames.drop(columns=['exame_33'])\n",
    "diagnostico = dados.diagnostico\n",
    "\n",
    "treino_x, teste_x, treino_y, teste_y = train_test_split(valores_exames, diagnostico, train_size=0.3)"
   ]
  },
  {
   "cell_type": "markdown",
   "id": "7c73f65e",
   "metadata": {},
   "source": [
    "## Tratando os valores nulos\n",
    "---"
   ]
  },
  {
   "cell_type": "code",
   "execution_count": 6,
   "id": "77a63e49",
   "metadata": {},
   "outputs": [
    {
     "data": {
      "text/plain": [
       "exame_1     0\n",
       "exame_2     0\n",
       "exame_3     0\n",
       "exame_4     0\n",
       "exame_5     0\n",
       "exame_6     0\n",
       "exame_7     0\n",
       "exame_8     0\n",
       "exame_9     0\n",
       "exame_10    0\n",
       "exame_11    0\n",
       "exame_12    0\n",
       "exame_13    0\n",
       "exame_14    0\n",
       "exame_15    0\n",
       "exame_16    0\n",
       "exame_17    0\n",
       "exame_18    0\n",
       "exame_19    0\n",
       "exame_20    0\n",
       "exame_21    0\n",
       "exame_22    0\n",
       "exame_23    0\n",
       "exame_24    0\n",
       "exame_25    0\n",
       "exame_26    0\n",
       "exame_27    0\n",
       "exame_28    0\n",
       "exame_29    0\n",
       "exame_30    0\n",
       "exame_31    0\n",
       "exame_32    0\n",
       "dtype: int64"
      ]
     },
     "execution_count": 6,
     "metadata": {},
     "output_type": "execute_result"
    }
   ],
   "source": [
    "valores_exames.isnull().sum()"
   ]
  },
  {
   "cell_type": "markdown",
   "id": "f343be61",
   "metadata": {},
   "source": [
    "## Criando o modelo Random Forest\n",
    "---"
   ]
  },
  {
   "cell_type": "code",
   "execution_count": 7,
   "id": "acd1b82b",
   "metadata": {},
   "outputs": [],
   "source": [
    "from sklearn.ensemble import RandomForestClassifier"
   ]
  },
  {
   "cell_type": "code",
   "execution_count": 13,
   "id": "f7d9fc85",
   "metadata": {},
   "outputs": [
    {
     "data": {
      "text/plain": [
       "'93.73%'"
      ]
     },
     "execution_count": 13,
     "metadata": {},
     "output_type": "execute_result"
    }
   ],
   "source": [
    "classificador = RandomForestClassifier(n_estimators=100)\n",
    "classificador.fit(treino_x, treino_y)\n",
    "\"{:.2%}\".format(classificador.score(teste_x, teste_y))"
   ]
  },
  {
   "cell_type": "markdown",
   "id": "010930c9",
   "metadata": {},
   "source": [
    "## Classificar Dummy\n",
    "---"
   ]
  },
  {
   "cell_type": "code",
   "execution_count": 14,
   "id": "fd6b7f27",
   "metadata": {},
   "outputs": [
    {
     "data": {
      "text/plain": [
       "'63.91%'"
      ]
     },
     "execution_count": 14,
     "metadata": {},
     "output_type": "execute_result"
    }
   ],
   "source": [
    "from sklearn.dummy import DummyClassifier\n",
    "\n",
    "SEED = 123143\n",
    "random.seed(SEED)\n",
    "\n",
    "dummy = DummyClassifier(strategy='most_frequent')\n",
    "dummy.fit(treino_x, treino_y)\n",
    "\"{:.2%}\".format(dummy.score(teste_x, teste_y))"
   ]
  },
  {
   "cell_type": "markdown",
   "id": "116e7faf",
   "metadata": {},
   "source": [
    "## Análise Exploratória e Padrozinando os dados\n",
    "--- \n"
   ]
  },
  {
   "cell_type": "code",
   "execution_count": 25,
   "id": "25325d3b",
   "metadata": {},
   "outputs": [
    {
     "data": {
      "text/plain": [
       "(array([0, 1, 2, 3, 4, 5, 6, 7, 8, 9]),\n",
       " [Text(0, 0, 'exame_1'),\n",
       "  Text(1, 0, 'exame_2'),\n",
       "  Text(2, 0, 'exame_3'),\n",
       "  Text(3, 0, 'exame_4'),\n",
       "  Text(4, 0, 'exame_5'),\n",
       "  Text(5, 0, 'exame_6'),\n",
       "  Text(6, 0, 'exame_7'),\n",
       "  Text(7, 0, 'exame_8'),\n",
       "  Text(8, 0, 'exame_9'),\n",
       "  Text(9, 0, 'exame_10')])"
      ]
     },
     "execution_count": 25,
     "metadata": {},
     "output_type": "execute_result"
    },
    {
     "data": {
      "image/png": "[encoded data removed]",
      "text/plain": [
       "<Figure size 1000x1000 with 1 Axes>"
      ]
     },
     "metadata": {},
     "output_type": "display_data"
    }
   ],
   "source": [
    "import seaborn as sns\n",
    "import matplotlib.pyplot as plt\n",
    "from sklearn.preprocessing import StandardScaler\n",
    "\n",
    "padronizador = StandardScaler()\n",
    "padronizador.fit(valores_exames)\n",
    "valores_exames_padronizados = padronizador.transform(valores_exames)\n",
    "valores_exames_padronizados = pd.DataFrame(valores_exames_padronizados, columns=valores_exames.keys())\n",
    "\n",
    "dados_plot = pd.concat([diagnostico, valores_exames_padronizados.iloc[:,0:10]], axis=1)\n",
    "dados_plot = pd.melt(dados_plot, id_vars='diagnostico', var_name='exames', value_name='valores')\n",
    "\n",
    "plt.figure(figsize=(10, 10))\n",
    "sns.violinplot(x='exames', y='valores', hue='diagnostico', data=dados_plot, split=True)\n",
    "\n",
    "plt.xticks(rotation=90)"
   ]
  },
  {
   "cell_type": "code",
   "execution_count": null,
   "id": "6637cb51",
   "metadata": {},
   "outputs": [],
   "source": []
  }
 ],
 "metadata": {
  "kernelspec": {
   "display_name": "Python 3 (ipykernel)",
   "language": "python",
   "name": "python3"
  },
  "language_info": {
   "codemirror_mode": {
    "name": "ipython",
    "version": 3
   },
   "file_extension": ".py",
   "mimetype": "text/x-python",
   "name": "python",
   "nbconvert_exporter": "python",
   "pygments_lexer": "ipython3",
   "version": "3.11.1"
  }
 },
 "nbformat": 4,
 "nbformat_minor": 5
}
